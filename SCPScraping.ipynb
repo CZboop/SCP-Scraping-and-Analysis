{
  "nbformat": 4,
  "nbformat_minor": 0,
  "metadata": {
    "colab": {
      "name": "SCPScrapingClean.ipynb",
      "provenance": [],
      "collapsed_sections": []
    },
    "kernelspec": {
      "name": "python3",
      "display_name": "Python 3"
    },
    "language_info": {
      "name": "python"
    }
  },
  "cells": [
    {
      "cell_type": "code",
      "source": [
        "from bs4 import BeautifulSoup, SoupStrainer\n",
        "import httplib2\n",
        "import re\n",
        "import pandas as pd\n",
        "from itertools import chain\n",
        "import time "
      ],
      "metadata": {
        "id": "yuvlEggrw2N7"
      },
      "execution_count": 32,
      "outputs": []
    },
    {
      "cell_type": "code",
      "source": [
        "scp_main_df = pd.DataFrame(columns=['code', 'title', 'text', 'link', 'rating'], index=None)"
      ],
      "metadata": {
        "id": "IaESIR7f5MGs"
      },
      "execution_count": 33,
      "outputs": []
    },
    {
      "cell_type": "code",
      "source": [
        "http = httplib2.Http()"
      ],
      "metadata": {
        "id": "KA-qlOac-t3P"
      },
      "execution_count": 34,
      "outputs": []
    },
    {
      "cell_type": "code",
      "source": [
        "status, response = http.request('https://scp-wiki.wikidot.com/scp-series')\n",
        "soup = BeautifulSoup(response, 'html.parser')\n",
        "\n",
        "# the page links all follow pattern and can loop through nums to string just zero padded basically\n",
        "for i in range(1,7000):\n",
        "  # timeout to limit load on the site\n",
        "  if i % 240 == 0:\n",
        "    print(i)\n",
        "    time.sleep(60)\n",
        "  num_as_str = '{}{}'.format('0' * (3 - len(str(i))) , str(i))\n",
        "  url = 'https://scp-wiki.wikidot.com/scp-{}'.format(num_as_str)\n",
        "  status, response = http.request(url)\n",
        "  soup = BeautifulSoup(response, 'html.parser')\n",
        "  text = [i for i in soup.find(id = 'page-content').find_all('p')]\n",
        "  # p tags include things like image captions may want to exclude, can do with scp-image-caption class there and check other cases\n",
        "  for i in text:\n",
        "    if hasattr(i.parent, 'class'):\n",
        "      if i.parent.get(\"class\") == 'scp-image-caption':\n",
        "        text.remove(i)\n",
        "  text = [i.text for i in text]\n",
        "  rating = soup.find(class_ = 'number prw54353')\n",
        "  if rating == None:\n",
        "    pass\n",
        "  else:\n",
        "    rating = rating.text\n",
        "  \n",
        "  status, response = http.request('https://scp-wiki.wikidot.com/scp-series')\n",
        "  soup = BeautifulSoup(response, 'html.parser')\n",
        "  title = soup.find('a', text='SCP-{}'.format(num_as_str)).parent.text.split(\" - \")[-1]\n",
        "  \n",
        "  # print(rating)\n",
        "  # quotes to preserve commas and not cause csv issues\n",
        "  info = ['SCP-{}'.format(num_as_str), \"\\\"{}\\\"\".format(title), \"\\\"{}\\\"\".format(text), url, rating]\n",
        "  scp_main_df.loc[len(scp_main_df)] = info\n",
        "\n"
      ],
      "metadata": {
        "id": "-ul7CD-y-rGZ"
      },
      "execution_count": null,
      "outputs": []
    },
    {
      "cell_type": "code",
      "source": [
        "scp_main_df.head"
      ],
      "metadata": {
        "id": "AV2D8U3dAUdT"
      },
      "execution_count": null,
      "outputs": []
    },
    {
      "cell_type": "code",
      "source": [
        "scp_main_df.to_csv('scp6999.csv')"
      ],
      "metadata": {
        "id": "rOXWeqEWAcY0"
      },
      "execution_count": null,
      "outputs": []
    },
    {
      "cell_type": "code",
      "source": [
        "pd.read_csv('scp6999.csv', delimiter=',', quotechar='\"')"
      ],
      "metadata": {
        "id": "mffZktPsDxoA"
      },
      "execution_count": null,
      "outputs": []
    }
  ]
}
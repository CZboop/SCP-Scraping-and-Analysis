{
  "nbformat": 4,
  "nbformat_minor": 0,
  "metadata": {
    "colab": {
      "name": "SCPScrapingClean.ipynb",
      "provenance": [],
      "collapsed_sections": []
    },
    "kernelspec": {
      "name": "python3",
      "display_name": "Python 3"
    },
    "language_info": {
      "name": "python"
    }
  },
  "cells": [
    {
      "cell_type": "code",
      "source": [
        "from bs4 import BeautifulSoup, SoupStrainer\n",
        "import httplib2\n",
        "import re\n",
        "import pandas as pd\n",
        "from itertools import chain\n",
        "import time "
      ],
      "metadata": {
        "id": "yuvlEggrw2N7"
      },
      "execution_count": 39,
      "outputs": []
    },
    {
      "cell_type": "code",
      "source": [
        "scp_main_df = pd.DataFrame(columns=['code', 'title', 'text', 'link', 'rating'], index=None)"
      ],
      "metadata": {
        "id": "IaESIR7f5MGs"
      },
      "execution_count": 58,
      "outputs": []
    },
    {
      "cell_type": "code",
      "source": [
        "http = httplib2.Http()"
      ],
      "metadata": {
        "id": "KA-qlOac-t3P"
      },
      "execution_count": 42,
      "outputs": []
    },
    {
      "cell_type": "code",
      "source": [
        "status, response = http.request('https://scp-wiki.wikidot.com/scp-series')\n",
        "soup = BeautifulSoup(response, 'html.parser')\n",
        "\n",
        "# note from 2235 onwards there are a couple that do not have the standard codes in directory pages, will keep the standard code for now\n",
        "# may go back and adjust \n",
        "\n",
        "# the page links all follow pattern and can loop through nums to string just zero padded basically\n",
        "for n in range(4000,7000):\n",
        "  # timeout to limit load on the site\n",
        "  if n % 240 == 0:\n",
        "    print(n)\n",
        "    time.sleep(60)\n",
        "  num_as_str = '{}{}'.format('0' * (3 - len(str(n))), str(n)) if n < 1000 else str(n)\n",
        "\n",
        "  url = 'https://scp-wiki.wikidot.com/scp-{}'.format(num_as_str)\n",
        "  status, response = http.request(url)\n",
        "  soup = BeautifulSoup(response, 'html.parser')\n",
        "  text = [i for i in soup.find(id = 'page-content').find_all('p')]\n",
        "  # p tags include things like image captions may want to exclude, can do with scp-image-caption class there and check other cases\n",
        "  for i in text:\n",
        "    if hasattr(i.parent, 'class'):\n",
        "      if i.parent.get(\"class\") == 'scp-image-caption':\n",
        "        text.remove(i)\n",
        "  text = [i.text for i in text]\n",
        "  rating = soup.find(class_ = 'number prw54353')\n",
        "  if rating == None:\n",
        "    pass\n",
        "  else:\n",
        "    rating = rating.text\n",
        "  # below needs to accoun for past 999\n",
        "  if n < 1000:\n",
        "    status, response = http.request('https://scp-wiki.wikidot.com/scp-series')\n",
        "  else:\n",
        "    status, response = http.request('https://scp-wiki.wikidot.com/scp-series-{}'.format(str(int(n//1000)+1)))\n",
        "  soup = BeautifulSoup(response, 'html.parser')\n",
        "  if soup.find('a', text='SCP-{}'.format(num_as_str)) == None:\n",
        "    # can try next li after previous num find? assuming there won't be any consecutive non standard titles...\n",
        "    if soup.find('a', text='SCP-{}'.format(str(n-1))) != None:\n",
        "      title = soup.find('a', text='SCP-{}'.format(str(n-1))).parent.find_next_sibling().text.split(\" - \")[-1]\n",
        "    else:\n",
        "      title = soup.find('a', text='SCP-{}'.format(str(n+1))).parent.find_previous_sibling().text\n",
        "      if ' - ' in title:\n",
        "        title = title.split(\" - \")[-1]\n",
        "    print(title)\n",
        "    # and here can also change/note the other code? if later want to add another column for these edge cases \n",
        "    # eg the ozymandias effect is both scp2235 and ura9611\n",
        "  else:\n",
        "    title = soup.find('a', text='SCP-{}'.format(num_as_str)).parent.text.split(\" - \")[-1]\n",
        "  \n",
        "  # print(rating)\n",
        "  # quotes to preserve commas and not cause csv issues\n",
        "  info = ['SCP-{}'.format(num_as_str), \"\\\"{}\\\"\".format(title), \"\\\"{}\\\"\".format(text), url, rating]\n",
        "  scp_main_df.loc[len(scp_main_df)] = info\n",
        "\n"
      ],
      "metadata": {
        "id": "-ul7CD-y-rGZ",
        "colab": {
          "base_uri": "https://localhost:8080/"
        },
        "outputId": "49391885-691a-49e6-c8a4-d4c8f8bc512a"
      },
      "execution_count": null,
      "outputs": [
        {
          "output_type": "stream",
          "name": "stdout",
          "text": [
            "Taboo\n"
          ]
        }
      ]
    },
    {
      "cell_type": "code",
      "source": [
        "scp_main_df.head"
      ],
      "metadata": {
        "id": "AV2D8U3dAUdT",
        "colab": {
          "base_uri": "https://localhost:8080/"
        },
        "outputId": "a118e843-f4af-4a27-d12b-6221de50e2ae"
      },
      "execution_count": 54,
      "outputs": [
        {
          "output_type": "execute_result",
          "data": {
            "text/plain": [
              "<bound method NDFrame.head of           code  ... rating\n",
              "0     SCP-2235  ...   +129\n",
              "1     SCP-2236  ...   +171\n",
              "2     SCP-2237  ...   +181\n",
              "3     SCP-2238  ...   +142\n",
              "4     SCP-2239  ...   +100\n",
              "...        ...  ...    ...\n",
              "1760  SCP-3995  ...   +122\n",
              "1761  SCP-3996  ...    +94\n",
              "1762  SCP-3997  ...   +216\n",
              "1763  SCP-3998  ...   +399\n",
              "1764  SCP-3999  ...  +2201\n",
              "\n",
              "[1765 rows x 5 columns]>"
            ]
          },
          "metadata": {},
          "execution_count": 54
        }
      ]
    },
    {
      "cell_type": "code",
      "source": [
        "scp_main_df.to_csv('scp6999.csv', mode='a', header=False)"
      ],
      "metadata": {
        "id": "rOXWeqEWAcY0"
      },
      "execution_count": 55,
      "outputs": []
    },
    {
      "cell_type": "code",
      "source": [
        "pd.read_csv('scp6999.csv', delimiter=',', quotechar='\"')"
      ],
      "metadata": {
        "id": "mffZktPsDxoA"
      },
      "execution_count": null,
      "outputs": []
    }
  ]
}